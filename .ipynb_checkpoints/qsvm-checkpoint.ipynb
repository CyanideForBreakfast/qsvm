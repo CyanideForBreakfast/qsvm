{
 "cells": [
  {
   "cell_type": "code",
   "execution_count": 1,
   "metadata": {},
   "outputs": [
    {
     "name": "stdout",
     "output_type": "stream",
     "text": [
      "Requirement already satisfied: qiskit in ./qc/lib/python3.6/site-packages (0.19.2)\n",
      "Requirement already satisfied: qiskit-ibmq-provider==0.7.1 in ./qc/lib/python3.6/site-packages (from qiskit) (0.7.1)\n",
      "Requirement already satisfied: qiskit-ignis==0.3.0 in ./qc/lib/python3.6/site-packages (from qiskit) (0.3.0)\n",
      "Requirement already satisfied: qiskit-aqua==0.7.1 in ./qc/lib/python3.6/site-packages (from qiskit) (0.7.1)\n",
      "Requirement already satisfied: qiskit-terra==0.14.1 in ./qc/lib/python3.6/site-packages (from qiskit) (0.14.1)\n",
      "Requirement already satisfied: qiskit-aer==0.5.1 in ./qc/lib/python3.6/site-packages (from qiskit) (0.5.1)\n",
      "Requirement already satisfied: nest-asyncio!=1.1.0,>=1.0.0 in ./qc/lib/python3.6/site-packages (from qiskit-ibmq-provider==0.7.1->qiskit) (1.3.3)\n",
      "Requirement already satisfied: requests>=2.19 in ./qc/lib/python3.6/site-packages (from qiskit-ibmq-provider==0.7.1->qiskit) (2.23.0)\n",
      "Requirement already satisfied: urllib3>=1.21.1 in ./qc/lib/python3.6/site-packages (from qiskit-ibmq-provider==0.7.1->qiskit) (1.24.3)\n",
      "Requirement already satisfied: python-dateutil>=2.8.0 in ./qc/lib/python3.6/site-packages (from qiskit-ibmq-provider==0.7.1->qiskit) (2.8.1)\n",
      "Requirement already satisfied: websockets<8,>=7 in ./qc/lib/python3.6/site-packages (from qiskit-ibmq-provider==0.7.1->qiskit) (7.0)\n",
      "Requirement already satisfied: requests-ntlm>=1.1.0 in ./qc/lib/python3.6/site-packages (from qiskit-ibmq-provider==0.7.1->qiskit) (1.1.0)\n",
      "Requirement already satisfied: numpy>=1.13 in ./qc/lib/python3.6/site-packages (from qiskit-ibmq-provider==0.7.1->qiskit) (1.18.4)\n",
      "Requirement already satisfied: scipy!=0.19.1,>=0.19 in ./qc/lib/python3.6/site-packages (from qiskit-ignis==0.3.0->qiskit) (1.4.1)\n",
      "Requirement already satisfied: setuptools>=40.1.0 in ./qc/lib/python3.6/site-packages (from qiskit-ignis==0.3.0->qiskit) (46.4.0)\n",
      "Requirement already satisfied: psutil>=5 in ./qc/lib/python3.6/site-packages (from qiskit-aqua==0.7.1->qiskit) (5.7.0)\n",
      "Requirement already satisfied: dlx in ./qc/lib/python3.6/site-packages (from qiskit-aqua==0.7.1->qiskit) (1.0.4)\n",
      "Requirement already satisfied: sympy>=1.3 in ./qc/lib/python3.6/site-packages (from qiskit-aqua==0.7.1->qiskit) (1.6)\n",
      "Requirement already satisfied: fastdtw in ./qc/lib/python3.6/site-packages (from qiskit-aqua==0.7.1->qiskit) (0.3.4)\n",
      "Requirement already satisfied: scikit-learn>=0.20.0 in ./qc/lib/python3.6/site-packages (from qiskit-aqua==0.7.1->qiskit) (0.23.1)\n",
      "Requirement already satisfied: quandl in ./qc/lib/python3.6/site-packages (from qiskit-aqua==0.7.1->qiskit) (3.5.0)\n",
      "Requirement already satisfied: h5py in ./qc/lib/python3.6/site-packages (from qiskit-aqua==0.7.1->qiskit) (2.10.0)\n",
      "Requirement already satisfied: docplex in ./qc/lib/python3.6/site-packages (from qiskit-aqua==0.7.1->qiskit) (2.14.186)\n",
      "Requirement already satisfied: networkx>=2.2 in ./qc/lib/python3.6/site-packages (from qiskit-aqua==0.7.1->qiskit) (2.4)\n",
      "Requirement already satisfied: pyscf; sys_platform != \"win32\" in ./qc/lib/python3.6/site-packages (from qiskit-aqua==0.7.1->qiskit) (1.7.2.post2)\n",
      "Requirement already satisfied: dill>=0.3 in ./qc/lib/python3.6/site-packages (from qiskit-terra==0.14.1->qiskit) (0.3.1.1)\n",
      "Requirement already satisfied: marshmallow<4,>=3 in ./qc/lib/python3.6/site-packages (from qiskit-terra==0.14.1->qiskit) (3.6.0)\n",
      "Requirement already satisfied: jsonschema>=2.6 in ./qc/lib/python3.6/site-packages (from qiskit-terra==0.14.1->qiskit) (3.2.0)\n",
      "Requirement already satisfied: python-constraint>=1.4 in ./qc/lib/python3.6/site-packages (from qiskit-terra==0.14.1->qiskit) (1.4.0)\n",
      "Requirement already satisfied: fastjsonschema>=2.10 in ./qc/lib/python3.6/site-packages (from qiskit-terra==0.14.1->qiskit) (2.14.4)\n",
      "Requirement already satisfied: ply>=3.10 in ./qc/lib/python3.6/site-packages (from qiskit-terra==0.14.1->qiskit) (3.11)\n",
      "Requirement already satisfied: retworkx>=0.3.2 in ./qc/lib/python3.6/site-packages (from qiskit-terra==0.14.1->qiskit) (0.3.4)\n",
      "Requirement already satisfied: marshmallow-polyfield<6,>=5.7 in ./qc/lib/python3.6/site-packages (from qiskit-terra==0.14.1->qiskit) (5.9)\n",
      "Requirement already satisfied: cython>=0.27.1 in ./qc/lib/python3.6/site-packages (from qiskit-aer==0.5.1->qiskit) (0.29.19)\n",
      "Requirement already satisfied: pybind11>=2.4 in ./qc/lib/python3.6/site-packages (from qiskit-aer==0.5.1->qiskit) (2.5.0)\n",
      "Requirement already satisfied: certifi>=2017.4.17 in ./qc/lib/python3.6/site-packages (from requests>=2.19->qiskit-ibmq-provider==0.7.1->qiskit) (2020.4.5.1)\n",
      "Requirement already satisfied: chardet<4,>=3.0.2 in ./qc/lib/python3.6/site-packages (from requests>=2.19->qiskit-ibmq-provider==0.7.1->qiskit) (3.0.4)\n",
      "Requirement already satisfied: idna<3,>=2.5 in ./qc/lib/python3.6/site-packages (from requests>=2.19->qiskit-ibmq-provider==0.7.1->qiskit) (2.9)\n",
      "Requirement already satisfied: six>=1.5 in ./qc/lib/python3.6/site-packages (from python-dateutil>=2.8.0->qiskit-ibmq-provider==0.7.1->qiskit) (1.15.0)\n",
      "Requirement already satisfied: ntlm-auth>=1.0.2 in ./qc/lib/python3.6/site-packages (from requests-ntlm>=1.1.0->qiskit-ibmq-provider==0.7.1->qiskit) (1.4.0)\n",
      "Requirement already satisfied: cryptography>=1.3 in ./qc/lib/python3.6/site-packages (from requests-ntlm>=1.1.0->qiskit-ibmq-provider==0.7.1->qiskit) (2.9.2)\n",
      "Requirement already satisfied: mpmath>=0.19 in ./qc/lib/python3.6/site-packages (from sympy>=1.3->qiskit-aqua==0.7.1->qiskit) (1.1.0)\n",
      "Requirement already satisfied: threadpoolctl>=2.0.0 in ./qc/lib/python3.6/site-packages (from scikit-learn>=0.20.0->qiskit-aqua==0.7.1->qiskit) (2.0.0)\n",
      "Requirement already satisfied: joblib>=0.11 in ./qc/lib/python3.6/site-packages (from scikit-learn>=0.20.0->qiskit-aqua==0.7.1->qiskit) (0.15.1)\n",
      "Requirement already satisfied: inflection>=0.3.1 in ./qc/lib/python3.6/site-packages (from quandl->qiskit-aqua==0.7.1->qiskit) (0.4.0)\n",
      "Requirement already satisfied: pandas>=0.14 in ./qc/lib/python3.6/site-packages (from quandl->qiskit-aqua==0.7.1->qiskit) (1.0.3)\n",
      "Requirement already satisfied: more-itertools in ./qc/lib/python3.6/site-packages (from quandl->qiskit-aqua==0.7.1->qiskit) (8.3.0)\n",
      "Requirement already satisfied: decorator>=4.3.0 in ./qc/lib/python3.6/site-packages (from networkx>=2.2->qiskit-aqua==0.7.1->qiskit) (4.4.2)\n",
      "Requirement already satisfied: pyrsistent>=0.14.0 in ./qc/lib/python3.6/site-packages (from jsonschema>=2.6->qiskit-terra==0.14.1->qiskit) (0.16.0)\n",
      "Requirement already satisfied: importlib-metadata; python_version < \"3.8\" in ./qc/lib/python3.6/site-packages (from jsonschema>=2.6->qiskit-terra==0.14.1->qiskit) (1.6.0)\n",
      "Requirement already satisfied: attrs>=17.4.0 in ./qc/lib/python3.6/site-packages (from jsonschema>=2.6->qiskit-terra==0.14.1->qiskit) (19.3.0)\n",
      "Requirement already satisfied: cffi!=1.11.3,>=1.8 in ./qc/lib/python3.6/site-packages (from cryptography>=1.3->requests-ntlm>=1.1.0->qiskit-ibmq-provider==0.7.1->qiskit) (1.14.0)\n",
      "Requirement already satisfied: pytz>=2017.2 in ./qc/lib/python3.6/site-packages (from pandas>=0.14->quandl->qiskit-aqua==0.7.1->qiskit) (2020.1)\n",
      "Requirement already satisfied: zipp>=0.5 in ./qc/lib/python3.6/site-packages (from importlib-metadata; python_version < \"3.8\"->jsonschema>=2.6->qiskit-terra==0.14.1->qiskit) (3.1.0)\n",
      "Requirement already satisfied: pycparser in ./qc/lib/python3.6/site-packages (from cffi!=1.11.3,>=1.8->cryptography>=1.3->requests-ntlm>=1.1.0->qiskit-ibmq-provider==0.7.1->qiskit) (2.20)\n"
     ]
    }
   ],
   "source": [
    "!pip install qiskit"
   ]
  },
  {
   "cell_type": "code",
   "execution_count": null,
   "metadata": {},
   "outputs": [
    {
     "name": "stdout",
     "output_type": "stream",
     "text": [
      "pima-indians-diabetes-database.zip: Skipping, found more recently modified local copy (use --force to force download)\n",
      "Archive:  pima-indians-diabetes-database.zip\n",
      "replace diabetes.csv? [y]es, [n]o, [A]ll, [N]one, [r]ename: "
     ]
    }
   ],
   "source": [
    "# unzipped already, no need to do again\n",
    "!unzip pima-indians-diabetes-database.zip"
   ]
  },
  {
   "cell_type": "code",
   "execution_count": null,
   "metadata": {},
   "outputs": [],
   "source": [
    "# just in case someone wants to see the ugly comma seperated file\n",
    "import csv\n",
    "with open('/data/diabetes.csv', newline='') as File:  \n",
    "    reader = csv.reader(File)\n",
    "    for row in reader:\n",
    "        print(row)"
   ]
  },
  {
   "cell_type": "code",
   "execution_count": 2,
   "metadata": {},
   "outputs": [
    {
     "name": "stdout",
     "output_type": "stream",
     "text": [
      "(768, 9)\n"
     ]
    }
   ],
   "source": [
    "import numpy as np\n",
    "data = np.genfromtxt('diabetes.csv', delimiter=',', names=True, case_sensitive=True)\n",
    "data = np.array(data.tolist()) # was an array of arrays earlier\n",
    "print(data.shape)\n",
    "x = np.copy(data[:,0:8]) #features\n",
    "y = np.copy(data[:,8]) #targets\n",
    "features = 8 #or number of qubits which I kept equal to number of features in this case"
   ]
  },
  {
   "cell_type": "code",
   "execution_count": 3,
   "metadata": {},
   "outputs": [],
   "source": [
    "from sklearn.model_selection import train_test_split\n",
    "import qiskit\n",
    "from qiskit import BasicAer\n",
    "from qiskit.aqua import QuantumInstance\n",
    "from qiskit.aqua.algorithms import QSVM\n",
    "from qiskit.aqua.components.multiclass_extensions import one_against_rest, all_pairs\n",
    "from qiskit.aqua.components.feature_maps import SecondOrderExpansion\n",
    "#from qiskit.aqua.input import ClassificationInput\n",
    "#from qiskit.aqua import run_algorithm"
   ]
  },
  {
   "cell_type": "code",
   "execution_count": null,
   "metadata": {},
   "outputs": [],
   "source": [
    "#please and please again, use your own IBMQ token (can be generated easily), I have very few processes left for me.\n",
    "key = '243ff4202efc1b45ad9282b9d6d524cdcccfc25561a86de37424b5ddd9aaa72969ea300500423019c48da10777e3241a5a45ff4a223439239cba4bed8d8709cc'"
   ]
  },
  {
   "cell_type": "code",
   "execution_count": 4,
   "metadata": {},
   "outputs": [
    {
     "name": "stderr",
     "output_type": "stream",
     "text": [
      "configrc.store_credentials:WARNING:2020-06-10 15:17:35,917: Credentials already present. Set overwrite=True to overwrite.\n"
     ]
    }
   ],
   "source": [
    "qiskit.IBMQ.save_account(key)\n",
    "provider = qiskit.IBMQ.load_account()\n",
    "backend = provider.get_backend('ibmq_qasm_simulator')"
   ]
  },
  {
   "cell_type": "code",
   "execution_count": 11,
   "metadata": {},
   "outputs": [],
   "source": [
    "#using only first 100, if anyone is brave enough, train_test_split(x, y, test_size=0.2)\n",
    "train_x, test_x, train_y, test_y = train_test_split(x[0:100], y[0:100], test_size=0.2)\n",
    "\n",
    "training_data = {'A':train_x[train_y==0],'B':train_x[train_y==1]}\n",
    "testing_data = {'A':test_x[test_y==0],'B':test_x[test_y==1]}"
   ]
  },
  {
   "cell_type": "code",
   "execution_count": 12,
   "metadata": {},
   "outputs": [
    {
     "name": "stderr",
     "output_type": "stream",
     "text": [
      "/home/utkarsh/QC/qc/lib/python3.6/site-packages/ipykernel_launcher.py:1: DeprecationWarning: The qiskit.aqua.components.feature_maps.SecondOrderExpansion object is deprecated as of 0.7.0 and will be removed no sooner than 3 months after the release. You should use qiskit.circuit.library.ZZFeatureMap instead.\n",
      "  \"\"\"Entry point for launching an IPython kernel.\n",
      "/home/utkarsh/QC/qc/lib/python3.6/site-packages/qiskit/aqua/components/feature_maps/second_order_expansion.py:59: DeprecationWarning: The qiskit.aqua.components.feature_maps.PauliZExpansion class is deprecated as of 0.7.0 and will be removed no sooner than 3 months after the release. You should use qiskit.circuit.library.PauliFeatureMap instead.\n",
      "  z_order=2, data_map_func=data_map_func)\n",
      "/home/utkarsh/QC/qc/lib/python3.6/site-packages/qiskit/aqua/components/feature_maps/pauli_z_expansion.py:71: DeprecationWarning: The qiskit.aqua.components.feature_maps.PauliExpansion object is deprecated as of 0.7.0 and will be removed no sooner than 3 months after the release. You should use qiskit.circuit.library.PauliFeatureMap instead.\n",
      "  paulis=pauli_string, data_map_func=data_map_func)\n",
      "/home/utkarsh/QC/qc/lib/python3.6/site-packages/ipykernel_launcher.py:2: DeprecationWarning: \n",
      "                The <class 'qiskit.aqua.components.feature_maps.second_order_expansion.SecondOrderExpansion'> object as input for the QSVM is deprecated as of 0.7.0 and will\n",
      "                be removed no earlier than 3 months after the release.\n",
      "                You should pass a QuantumCircuit object instead.\n",
      "                See also qiskit.circuit.library.data_preparation for a collection\n",
      "                of suitable circuits.\n",
      "  \n"
     ]
    }
   ],
   "source": [
    "feature_map = SecondOrderExpansion(feature_dimension=features,depth=2,entanglement='full')\n",
    "svm = QSVM(feature_map,training_data,testing_data)\n",
    "shots = 1 \n",
    "quantum_instance = QuantumInstance(backend,shots=shots,skip_qobj_validation=False)"
   ]
  },
  {
   "cell_type": "code",
   "execution_count": 13,
   "metadata": {},
   "outputs": [
    {
     "name": "stdout",
     "output_type": "stream",
     "text": [
      "CPU times: user 8min 45s, sys: 14.7 s, total: 8min 59s\n",
      "Wall time: 18min 59s\n"
     ]
    }
   ],
   "source": [
    "%%time\n",
    "result = svm.run(quantum_instance) "
   ]
  },
  {
   "cell_type": "code",
   "execution_count": 15,
   "metadata": {},
   "outputs": [
    {
     "name": "stdout",
     "output_type": "stream",
     "text": [
      "{'kernel_matrix_training': array([[1., 0., 0., ..., 0., 0., 0.],\n",
      "       [0., 1., 0., ..., 0., 0., 0.],\n",
      "       [0., 0., 1., ..., 0., 0., 0.],\n",
      "       ...,\n",
      "       [0., 0., 0., ..., 1., 0., 0.],\n",
      "       [0., 0., 0., ..., 0., 1., 0.],\n",
      "       [0., 0., 0., ..., 0., 0., 1.]]), 'svm': {'alphas': array([1.37165423e+01, 1.45974668e+01, 1.45974668e+01, 1.45974668e+01,\n",
      "       1.45974668e+01, 1.45974668e+01, 1.02058308e+01, 1.29870505e+02,\n",
      "       1.45974668e+01, 1.45974668e+01, 1.45974668e+01, 1.05032162e+01,\n",
      "       1.45974668e+01, 1.45974668e+01, 1.45974668e+01, 1.05032162e+01,\n",
      "       1.45974668e+01, 1.45974668e+01, 1.45974668e+01, 1.10481783e+02,\n",
      "       1.45974668e+01, 1.45974668e+01, 1.45974668e+01, 1.45974668e+01,\n",
      "       1.45974668e+01, 3.19154010e+12, 1.45974668e+01, 1.45974668e+01,\n",
      "       1.45974668e+01, 1.45974668e+01, 1.45974668e+01, 1.78471028e+02,\n",
      "       1.45974668e+01, 1.45974668e+01, 1.05032162e+01, 1.29870505e+02,\n",
      "       1.45974668e+01, 1.45974668e+01, 1.45974668e+01, 1.45974668e+01,\n",
      "       1.10481783e+02, 1.05032162e+01, 1.02058308e+01, 1.45974668e+01,\n",
      "       1.45974668e+01, 1.45974668e+01, 1.45974668e+01, 1.45974668e+01,\n",
      "       1.45974668e+01, 1.25290480e+02, 1.86303823e+01, 2.97163341e+01,\n",
      "       1.91076245e+02, 2.97163341e+01, 2.97163341e+01, 2.97163341e+01,\n",
      "       2.97163341e+01, 2.97163341e+01, 2.97163341e+01, 2.97163341e+01,\n",
      "       2.97163341e+01, 2.97163341e+01, 2.97163341e+01, 1.90373219e+01,\n",
      "       2.97163341e+01, 3.19154010e+12, 2.97163341e+01, 1.43964506e+02,\n",
      "       1.90373219e+01, 2.97163341e+01, 1.43964506e+02, 2.97163341e+01,\n",
      "       1.25290480e+02]), 'bias': array([7.97885025e+10]), 'support_vectors': array([[1.000e+00, 1.070e+02, 6.800e+01, 1.900e+01, 0.000e+00, 2.650e+01,\n",
      "        1.650e-01, 2.400e+01],\n",
      "       [5.000e+00, 9.500e+01, 7.200e+01, 3.300e+01, 0.000e+00, 3.770e+01,\n",
      "        3.700e-01, 2.700e+01],\n",
      "       [1.000e+00, 7.100e+01, 4.800e+01, 1.800e+01, 7.600e+01, 2.040e+01,\n",
      "        3.230e-01, 2.200e+01],\n",
      "       [5.000e+00, 9.900e+01, 7.400e+01, 2.700e+01, 0.000e+00, 2.900e+01,\n",
      "        2.030e-01, 3.200e+01],\n",
      "       [3.000e+00, 1.130e+02, 4.400e+01, 1.300e+01, 0.000e+00, 2.240e+01,\n",
      "        1.400e-01, 2.200e+01],\n",
      "       [3.000e+00, 1.260e+02, 8.800e+01, 4.100e+01, 2.350e+02, 3.930e+01,\n",
      "        7.040e-01, 2.700e+01],\n",
      "       [2.000e+00, 1.090e+02, 9.200e+01, 0.000e+00, 0.000e+00, 4.270e+01,\n",
      "        8.450e-01, 5.400e+01],\n",
      "       [2.000e+00, 7.400e+01, 0.000e+00, 0.000e+00, 0.000e+00, 0.000e+00,\n",
      "        1.020e-01, 2.200e+01],\n",
      "       [4.000e+00, 1.100e+02, 9.200e+01, 0.000e+00, 0.000e+00, 3.760e+01,\n",
      "        1.910e-01, 3.000e+01],\n",
      "       [7.000e+00, 8.300e+01, 7.800e+01, 2.600e+01, 7.100e+01, 2.930e+01,\n",
      "        7.670e-01, 3.600e+01],\n",
      "       [2.000e+00, 8.400e+01, 0.000e+00, 0.000e+00, 0.000e+00, 0.000e+00,\n",
      "        3.040e-01, 2.100e+01],\n",
      "       [1.000e+00, 1.010e+02, 5.000e+01, 1.500e+01, 3.600e+01, 2.420e+01,\n",
      "        5.260e-01, 2.600e+01],\n",
      "       [6.000e+00, 9.300e+01, 5.000e+01, 3.000e+01, 6.400e+01, 2.870e+01,\n",
      "        3.560e-01, 2.300e+01],\n",
      "       [7.000e+00, 6.200e+01, 7.800e+01, 0.000e+00, 0.000e+00, 3.260e+01,\n",
      "        3.910e-01, 4.100e+01],\n",
      "       [1.000e+00, 1.030e+02, 3.000e+01, 3.800e+01, 8.300e+01, 4.330e+01,\n",
      "        1.830e-01, 3.300e+01],\n",
      "       [4.000e+00, 1.460e+02, 8.500e+01, 2.700e+01, 1.000e+02, 2.890e+01,\n",
      "        1.890e-01, 2.700e+01],\n",
      "       [5.000e+00, 1.170e+02, 9.200e+01, 0.000e+00, 0.000e+00, 3.410e+01,\n",
      "        3.370e-01, 3.800e+01],\n",
      "       [0.000e+00, 1.010e+02, 6.500e+01, 2.800e+01, 0.000e+00, 2.460e+01,\n",
      "        2.370e-01, 2.200e+01],\n",
      "       [2.000e+00, 1.410e+02, 5.800e+01, 3.400e+01, 1.280e+02, 2.540e+01,\n",
      "        6.990e-01, 2.400e+01],\n",
      "       [7.000e+00, 1.500e+02, 6.600e+01, 4.200e+01, 3.420e+02, 3.470e+01,\n",
      "        7.180e-01, 4.200e+01],\n",
      "       [5.000e+00, 4.400e+01, 6.200e+01, 0.000e+00, 0.000e+00, 2.500e+01,\n",
      "        5.870e-01, 3.600e+01],\n",
      "       [2.000e+00, 1.100e+02, 7.400e+01, 2.900e+01, 1.250e+02, 3.240e+01,\n",
      "        6.980e-01, 2.700e+01],\n",
      "       [4.000e+00, 1.230e+02, 8.000e+01, 1.500e+01, 1.760e+02, 3.200e+01,\n",
      "        4.430e-01, 3.400e+01],\n",
      "       [2.000e+00, 1.000e+02, 6.800e+01, 2.500e+01, 7.100e+01, 3.850e+01,\n",
      "        3.240e-01, 2.600e+01],\n",
      "       [6.000e+00, 9.200e+01, 9.200e+01, 0.000e+00, 0.000e+00, 1.990e+01,\n",
      "        1.880e-01, 2.800e+01],\n",
      "       [1.300e+01, 1.060e+02, 7.200e+01, 5.400e+01, 0.000e+00, 3.660e+01,\n",
      "        1.780e-01, 4.500e+01],\n",
      "       [1.000e+00, 0.000e+00, 4.800e+01, 2.000e+01, 0.000e+00, 2.470e+01,\n",
      "        1.400e-01, 2.200e+01],\n",
      "       [2.000e+00, 1.120e+02, 6.600e+01, 2.200e+01, 0.000e+00, 2.500e+01,\n",
      "        3.070e-01, 2.400e+01],\n",
      "       [1.000e+01, 1.390e+02, 8.000e+01, 0.000e+00, 0.000e+00, 2.710e+01,\n",
      "        1.441e+00, 5.700e+01],\n",
      "       [1.000e+00, 9.700e+01, 6.600e+01, 1.500e+01, 1.400e+02, 2.320e+01,\n",
      "        4.870e-01, 2.200e+01],\n",
      "       [2.000e+00, 9.200e+01, 6.200e+01, 2.800e+01, 0.000e+00, 3.160e+01,\n",
      "        1.300e-01, 2.400e+01],\n",
      "       [1.000e+01, 1.150e+02, 0.000e+00, 0.000e+00, 0.000e+00, 3.530e+01,\n",
      "        1.340e-01, 2.900e+01],\n",
      "       [1.100e+01, 1.380e+02, 7.600e+01, 0.000e+00, 0.000e+00, 3.320e+01,\n",
      "        4.200e-01, 3.500e+01],\n",
      "       [1.000e+00, 8.500e+01, 6.600e+01, 2.900e+01, 0.000e+00, 2.660e+01,\n",
      "        3.510e-01, 3.100e+01],\n",
      "       [8.000e+00, 9.900e+01, 8.400e+01, 0.000e+00, 0.000e+00, 3.540e+01,\n",
      "        3.880e-01, 5.000e+01],\n",
      "       [3.000e+00, 1.800e+02, 6.400e+01, 2.500e+01, 7.000e+01, 3.400e+01,\n",
      "        2.710e-01, 2.600e+01],\n",
      "       [0.000e+00, 1.460e+02, 8.200e+01, 0.000e+00, 0.000e+00, 4.050e+01,\n",
      "        1.781e+00, 4.400e+01],\n",
      "       [2.000e+00, 1.420e+02, 8.200e+01, 1.800e+01, 6.400e+01, 2.470e+01,\n",
      "        7.610e-01, 2.100e+01],\n",
      "       [0.000e+00, 1.000e+02, 8.800e+01, 6.000e+01, 1.100e+02, 4.680e+01,\n",
      "        9.620e-01, 3.100e+01],\n",
      "       [1.000e+00, 8.000e+01, 5.500e+01, 0.000e+00, 0.000e+00, 1.910e+01,\n",
      "        2.580e-01, 2.100e+01],\n",
      "       [5.000e+00, 8.800e+01, 6.600e+01, 2.100e+01, 2.300e+01, 2.440e+01,\n",
      "        3.420e-01, 3.000e+01],\n",
      "       [7.000e+00, 1.590e+02, 6.400e+01, 0.000e+00, 0.000e+00, 2.740e+01,\n",
      "        2.940e-01, 4.000e+01],\n",
      "       [7.000e+00, 1.330e+02, 8.400e+01, 0.000e+00, 0.000e+00, 4.020e+01,\n",
      "        6.960e-01, 3.700e+01],\n",
      "       [6.000e+00, 1.440e+02, 7.200e+01, 2.700e+01, 2.280e+02, 3.390e+01,\n",
      "        2.550e-01, 4.000e+01],\n",
      "       [4.000e+00, 1.290e+02, 8.600e+01, 2.000e+01, 2.700e+02, 3.510e+01,\n",
      "        2.310e-01, 2.300e+01],\n",
      "       [7.000e+00, 1.050e+02, 0.000e+00, 0.000e+00, 0.000e+00, 0.000e+00,\n",
      "        3.050e-01, 2.400e+01],\n",
      "       [0.000e+00, 1.050e+02, 6.400e+01, 4.100e+01, 1.420e+02, 4.150e+01,\n",
      "        1.730e-01, 2.200e+01],\n",
      "       [3.000e+00, 8.800e+01, 5.800e+01, 1.100e+01, 5.400e+01, 2.480e+01,\n",
      "        2.670e-01, 2.200e+01],\n",
      "       [5.000e+00, 1.160e+02, 7.400e+01, 0.000e+00, 0.000e+00, 2.560e+01,\n",
      "        2.010e-01, 3.000e+01],\n",
      "       [0.000e+00, 1.800e+02, 6.600e+01, 3.900e+01, 0.000e+00, 4.200e+01,\n",
      "        1.893e+00, 2.500e+01],\n",
      "       [0.000e+00, 1.310e+02, 0.000e+00, 0.000e+00, 0.000e+00, 4.320e+01,\n",
      "        2.700e-01, 2.600e+01],\n",
      "       [7.000e+00, 1.000e+02, 0.000e+00, 0.000e+00, 0.000e+00, 3.000e+01,\n",
      "        4.840e-01, 3.200e+01],\n",
      "       [8.000e+00, 1.830e+02, 6.400e+01, 0.000e+00, 0.000e+00, 2.330e+01,\n",
      "        6.720e-01, 3.200e+01],\n",
      "       [7.000e+00, 1.070e+02, 7.400e+01, 0.000e+00, 0.000e+00, 2.960e+01,\n",
      "        2.540e-01, 3.100e+01],\n",
      "       [2.000e+00, 1.970e+02, 7.000e+01, 4.500e+01, 5.430e+02, 3.050e+01,\n",
      "        1.580e-01, 5.300e+01],\n",
      "       [7.000e+00, 1.470e+02, 7.600e+01, 0.000e+00, 0.000e+00, 3.940e+01,\n",
      "        2.570e-01, 4.300e+01],\n",
      "       [8.000e+00, 1.330e+02, 7.200e+01, 0.000e+00, 0.000e+00, 3.290e+01,\n",
      "        2.700e-01, 3.900e+01],\n",
      "       [9.000e+00, 1.020e+02, 7.600e+01, 3.700e+01, 0.000e+00, 3.290e+01,\n",
      "        6.650e-01, 4.600e+01],\n",
      "       [5.000e+00, 1.370e+02, 1.080e+02, 0.000e+00, 0.000e+00, 4.880e+01,\n",
      "        2.270e-01, 3.700e+01],\n",
      "       [3.000e+00, 1.580e+02, 7.600e+01, 3.600e+01, 2.450e+02, 3.160e+01,\n",
      "        8.510e-01, 2.800e+01],\n",
      "       [8.000e+00, 1.760e+02, 9.000e+01, 3.400e+01, 3.000e+02, 3.370e+01,\n",
      "        4.670e-01, 5.800e+01],\n",
      "       [2.000e+00, 9.000e+01, 6.800e+01, 4.200e+01, 0.000e+00, 3.820e+01,\n",
      "        5.030e-01, 2.700e+01],\n",
      "       [2.000e+00, 1.000e+02, 6.600e+01, 2.000e+01, 9.000e+01, 3.290e+01,\n",
      "        8.670e-01, 2.800e+01],\n",
      "       [0.000e+00, 1.090e+02, 8.800e+01, 3.000e+01, 0.000e+00, 3.250e+01,\n",
      "        8.550e-01, 3.800e+01],\n",
      "       [1.000e+01, 1.250e+02, 7.000e+01, 2.600e+01, 1.150e+02, 3.110e+01,\n",
      "        2.050e-01, 4.100e+01],\n",
      "       [9.000e+00, 1.710e+02, 1.100e+02, 2.400e+01, 2.400e+02, 4.540e+01,\n",
      "        7.210e-01, 5.400e+01],\n",
      "       [1.000e+00, 1.890e+02, 6.000e+01, 2.300e+01, 8.460e+02, 3.010e+01,\n",
      "        3.980e-01, 5.900e+01],\n",
      "       [1.000e+00, 1.220e+02, 9.000e+01, 5.100e+01, 2.200e+02, 4.970e+01,\n",
      "        3.250e-01, 3.100e+01],\n",
      "       [4.000e+00, 1.110e+02, 7.200e+01, 4.700e+01, 2.070e+02, 3.710e+01,\n",
      "        1.390e+00, 5.600e+01],\n",
      "       [7.000e+00, 1.030e+02, 6.600e+01, 3.200e+01, 0.000e+00, 3.910e+01,\n",
      "        3.440e-01, 3.100e+01],\n",
      "       [1.100e+01, 1.430e+02, 9.400e+01, 3.300e+01, 1.460e+02, 3.660e+01,\n",
      "        2.540e-01, 5.100e+01],\n",
      "       [9.000e+00, 1.190e+02, 8.000e+01, 3.500e+01, 0.000e+00, 2.900e+01,\n",
      "        2.630e-01, 2.900e+01],\n",
      "       [5.000e+00, 1.660e+02, 7.200e+01, 1.900e+01, 1.750e+02, 2.580e+01,\n",
      "        5.870e-01, 5.100e+01]]), 'yin': array([-1., -1., -1., -1., -1., -1., -1., -1., -1., -1., -1., -1., -1.,\n",
      "       -1., -1., -1., -1., -1., -1., -1., -1., -1., -1., -1., -1., -1.,\n",
      "       -1., -1., -1., -1., -1., -1., -1., -1., -1., -1., -1., -1., -1.,\n",
      "       -1., -1., -1., -1., -1., -1., -1., -1., -1., -1.,  1.,  1.,  1.,\n",
      "        1.,  1.,  1.,  1.,  1.,  1.,  1.,  1.,  1.,  1.,  1.,  1.,  1.,\n",
      "        1.,  1.,  1.,  1.,  1.,  1.,  1.,  1.])}, 'kernel_matrix_testing': array([[0., 0., 0., ..., 0., 0., 0.],\n",
      "       [0., 0., 0., ..., 0., 0., 0.],\n",
      "       [0., 0., 0., ..., 0., 0., 0.],\n",
      "       ...,\n",
      "       [0., 0., 0., ..., 0., 0., 0.],\n",
      "       [0., 0., 0., ..., 0., 0., 0.],\n",
      "       [0., 0., 0., ..., 0., 0., 0.]]), 'testing_accuracy': 0.6, 'test_success_ratio': 0.6}\n"
     ]
    }
   ],
   "source": [
    "print(result)"
   ]
  }
 ],
 "metadata": {
  "kernelspec": {
   "display_name": "Python 3",
   "language": "python",
   "name": "python3"
  },
  "language_info": {
   "codemirror_mode": {
    "name": "ipython",
    "version": 3
   },
   "file_extension": ".py",
   "mimetype": "text/x-python",
   "name": "python",
   "nbconvert_exporter": "python",
   "pygments_lexer": "ipython3",
   "version": "3.6.9"
  }
 },
 "nbformat": 4,
 "nbformat_minor": 4
}
