{
 "cells": [
  {
   "cell_type": "code",
   "execution_count": 1,
   "metadata": {},
   "outputs": [
    {
     "name": "stdout",
     "output_type": "stream",
     "text": [
      "Requirement already satisfied: qiskit in ./qc/lib/python3.6/site-packages (0.19.2)\n",
      "Requirement already satisfied: qiskit-terra==0.14.1 in ./qc/lib/python3.6/site-packages (from qiskit) (0.14.1)\n",
      "Requirement already satisfied: qiskit-ignis==0.3.0 in ./qc/lib/python3.6/site-packages (from qiskit) (0.3.0)\n",
      "Requirement already satisfied: qiskit-aqua==0.7.1 in ./qc/lib/python3.6/site-packages (from qiskit) (0.7.1)\n",
      "Requirement already satisfied: qiskit-aer==0.5.1 in ./qc/lib/python3.6/site-packages (from qiskit) (0.5.1)\n",
      "Requirement already satisfied: qiskit-ibmq-provider==0.7.1 in ./qc/lib/python3.6/site-packages (from qiskit) (0.7.1)\n",
      "Requirement already satisfied: marshmallow-polyfield<6,>=5.7 in ./qc/lib/python3.6/site-packages (from qiskit-terra==0.14.1->qiskit) (5.9)\n",
      "Requirement already satisfied: python-dateutil>=2.8.0 in ./qc/lib/python3.6/site-packages (from qiskit-terra==0.14.1->qiskit) (2.8.1)\n",
      "Requirement already satisfied: jsonschema>=2.6 in ./qc/lib/python3.6/site-packages (from qiskit-terra==0.14.1->qiskit) (3.2.0)\n",
      "Requirement already satisfied: scipy>=1.4 in ./qc/lib/python3.6/site-packages (from qiskit-terra==0.14.1->qiskit) (1.4.1)\n",
      "Requirement already satisfied: numpy>=1.17 in ./qc/lib/python3.6/site-packages (from qiskit-terra==0.14.1->qiskit) (1.18.4)\n",
      "Requirement already satisfied: dill>=0.3 in ./qc/lib/python3.6/site-packages (from qiskit-terra==0.14.1->qiskit) (0.3.1.1)\n",
      "Requirement already satisfied: psutil>=5 in ./qc/lib/python3.6/site-packages (from qiskit-terra==0.14.1->qiskit) (5.7.0)\n",
      "Requirement already satisfied: sympy>=1.3 in ./qc/lib/python3.6/site-packages (from qiskit-terra==0.14.1->qiskit) (1.6)\n",
      "Requirement already satisfied: ply>=3.10 in ./qc/lib/python3.6/site-packages (from qiskit-terra==0.14.1->qiskit) (3.11)\n",
      "Requirement already satisfied: retworkx>=0.3.2 in ./qc/lib/python3.6/site-packages (from qiskit-terra==0.14.1->qiskit) (0.3.4)\n",
      "Requirement already satisfied: fastjsonschema>=2.10 in ./qc/lib/python3.6/site-packages (from qiskit-terra==0.14.1->qiskit) (2.14.4)\n",
      "Requirement already satisfied: marshmallow<4,>=3 in ./qc/lib/python3.6/site-packages (from qiskit-terra==0.14.1->qiskit) (3.6.0)\n",
      "Requirement already satisfied: python-constraint>=1.4 in ./qc/lib/python3.6/site-packages (from qiskit-terra==0.14.1->qiskit) (1.4.0)\n",
      "Requirement already satisfied: networkx>=2.2; python_version > \"3.5\" in ./qc/lib/python3.6/site-packages (from qiskit-terra==0.14.1->qiskit) (2.4)\n",
      "Requirement already satisfied: setuptools>=40.1.0 in ./qc/lib/python3.6/site-packages (from qiskit-ignis==0.3.0->qiskit) (46.4.0)\n",
      "Requirement already satisfied: fastdtw in ./qc/lib/python3.6/site-packages (from qiskit-aqua==0.7.1->qiskit) (0.3.4)\n",
      "Requirement already satisfied: docplex in ./qc/lib/python3.6/site-packages (from qiskit-aqua==0.7.1->qiskit) (2.14.186)\n",
      "Requirement already satisfied: scikit-learn>=0.20.0 in ./qc/lib/python3.6/site-packages (from qiskit-aqua==0.7.1->qiskit) (0.23.1)\n",
      "Requirement already satisfied: dlx in ./qc/lib/python3.6/site-packages (from qiskit-aqua==0.7.1->qiskit) (1.0.4)\n",
      "Requirement already satisfied: quandl in ./qc/lib/python3.6/site-packages (from qiskit-aqua==0.7.1->qiskit) (3.5.0)\n",
      "Requirement already satisfied: h5py in ./qc/lib/python3.6/site-packages (from qiskit-aqua==0.7.1->qiskit) (2.10.0)\n",
      "Requirement already satisfied: pyscf; sys_platform != \"win32\" in ./qc/lib/python3.6/site-packages (from qiskit-aqua==0.7.1->qiskit) (1.7.2.post2)\n",
      "Requirement already satisfied: cython>=0.27.1 in ./qc/lib/python3.6/site-packages (from qiskit-aer==0.5.1->qiskit) (0.29.19)\n",
      "Requirement already satisfied: pybind11>=2.4 in ./qc/lib/python3.6/site-packages (from qiskit-aer==0.5.1->qiskit) (2.5.0)\n",
      "Requirement already satisfied: requests>=2.19 in ./qc/lib/python3.6/site-packages (from qiskit-ibmq-provider==0.7.1->qiskit) (2.23.0)\n",
      "Requirement already satisfied: nest-asyncio!=1.1.0,>=1.0.0 in ./qc/lib/python3.6/site-packages (from qiskit-ibmq-provider==0.7.1->qiskit) (1.3.3)\n",
      "Requirement already satisfied: websockets<8,>=7 in ./qc/lib/python3.6/site-packages (from qiskit-ibmq-provider==0.7.1->qiskit) (7.0)\n",
      "Requirement already satisfied: urllib3>=1.21.1 in ./qc/lib/python3.6/site-packages (from qiskit-ibmq-provider==0.7.1->qiskit) (1.25.9)\n",
      "Requirement already satisfied: requests-ntlm>=1.1.0 in ./qc/lib/python3.6/site-packages (from qiskit-ibmq-provider==0.7.1->qiskit) (1.1.0)\n",
      "Requirement already satisfied: six>=1.5 in ./qc/lib/python3.6/site-packages (from python-dateutil>=2.8.0->qiskit-terra==0.14.1->qiskit) (1.15.0)\n",
      "Requirement already satisfied: importlib-metadata; python_version < \"3.8\" in ./qc/lib/python3.6/site-packages (from jsonschema>=2.6->qiskit-terra==0.14.1->qiskit) (1.6.0)\n",
      "Requirement already satisfied: attrs>=17.4.0 in ./qc/lib/python3.6/site-packages (from jsonschema>=2.6->qiskit-terra==0.14.1->qiskit) (19.3.0)\n",
      "Requirement already satisfied: pyrsistent>=0.14.0 in ./qc/lib/python3.6/site-packages (from jsonschema>=2.6->qiskit-terra==0.14.1->qiskit) (0.16.0)\n",
      "Requirement already satisfied: mpmath>=0.19 in ./qc/lib/python3.6/site-packages (from sympy>=1.3->qiskit-terra==0.14.1->qiskit) (1.1.0)\n",
      "Requirement already satisfied: decorator>=4.3.0 in ./qc/lib/python3.6/site-packages (from networkx>=2.2; python_version > \"3.5\"->qiskit-terra==0.14.1->qiskit) (4.4.2)\n",
      "Requirement already satisfied: threadpoolctl>=2.0.0 in ./qc/lib/python3.6/site-packages (from scikit-learn>=0.20.0->qiskit-aqua==0.7.1->qiskit) (2.0.0)\n",
      "Requirement already satisfied: joblib>=0.11 in ./qc/lib/python3.6/site-packages (from scikit-learn>=0.20.0->qiskit-aqua==0.7.1->qiskit) (0.15.1)\n",
      "Requirement already satisfied: inflection>=0.3.1 in ./qc/lib/python3.6/site-packages (from quandl->qiskit-aqua==0.7.1->qiskit) (0.4.0)\n",
      "Requirement already satisfied: pandas>=0.14 in ./qc/lib/python3.6/site-packages (from quandl->qiskit-aqua==0.7.1->qiskit) (1.0.3)\n",
      "Requirement already satisfied: more-itertools in ./qc/lib/python3.6/site-packages (from quandl->qiskit-aqua==0.7.1->qiskit) (8.3.0)\n",
      "Requirement already satisfied: certifi>=2017.4.17 in ./qc/lib/python3.6/site-packages (from requests>=2.19->qiskit-ibmq-provider==0.7.1->qiskit) (2020.4.5.1)\n",
      "Requirement already satisfied: idna<3,>=2.5 in ./qc/lib/python3.6/site-packages (from requests>=2.19->qiskit-ibmq-provider==0.7.1->qiskit) (2.9)\n",
      "Requirement already satisfied: chardet<4,>=3.0.2 in ./qc/lib/python3.6/site-packages (from requests>=2.19->qiskit-ibmq-provider==0.7.1->qiskit) (3.0.4)\n",
      "Requirement already satisfied: ntlm-auth>=1.0.2 in ./qc/lib/python3.6/site-packages (from requests-ntlm>=1.1.0->qiskit-ibmq-provider==0.7.1->qiskit) (1.4.0)\n",
      "Requirement already satisfied: cryptography>=1.3 in ./qc/lib/python3.6/site-packages (from requests-ntlm>=1.1.0->qiskit-ibmq-provider==0.7.1->qiskit) (2.9.2)\n",
      "Requirement already satisfied: zipp>=0.5 in ./qc/lib/python3.6/site-packages (from importlib-metadata; python_version < \"3.8\"->jsonschema>=2.6->qiskit-terra==0.14.1->qiskit) (3.1.0)\n",
      "Requirement already satisfied: pytz>=2017.2 in ./qc/lib/python3.6/site-packages (from pandas>=0.14->quandl->qiskit-aqua==0.7.1->qiskit) (2020.1)\n",
      "Requirement already satisfied: cffi!=1.11.3,>=1.8 in ./qc/lib/python3.6/site-packages (from cryptography>=1.3->requests-ntlm>=1.1.0->qiskit-ibmq-provider==0.7.1->qiskit) (1.14.0)\n",
      "Requirement already satisfied: pycparser in ./qc/lib/python3.6/site-packages (from cffi!=1.11.3,>=1.8->cryptography>=1.3->requests-ntlm>=1.1.0->qiskit-ibmq-provider==0.7.1->qiskit) (2.20)\n"
     ]
    }
   ],
   "source": [
    "!pip install qiskit"
   ]
  },
  {
   "cell_type": "code",
   "execution_count": 3,
   "metadata": {},
   "outputs": [
    {
     "name": "stdout",
     "output_type": "stream",
     "text": [
      "mkdir: cannot create directory ‘/home/utkarsh/.kaggle’: File exists\r\n"
     ]
    }
   ],
   "source": [
    "!pip install -q kaggle \n",
    "! mkdir ~/.kaggle\n",
    "! cp kaggle.json ~/.kaggle/\n",
    "! chmod 600 ~/.kaggle/kaggle.json"
   ]
  },
  {
   "cell_type": "code",
   "execution_count": 5,
   "metadata": {},
   "outputs": [
    {
     "name": "stdout",
     "output_type": "stream",
     "text": [
      "Downloading pima-indians-diabetes-database.zip to /home/utkarsh/QC\n",
      "  0%|                                               | 0.00/8.91k [00:00<?, ?B/s]\n",
      "100%|██████████████████████████████████████| 8.91k/8.91k [00:00<00:00, 2.23MB/s]\n",
      "Archive:  pima-indians-diabetes-database.zip\n",
      "  inflating: diabetes.csv            \n"
     ]
    }
   ],
   "source": [
    "!kaggle datasets download -d uciml/pima-indians-diabetes-database\n",
    "!unzip pima-indians-diabetes-database.zip"
   ]
  },
  {
   "cell_type": "code",
   "execution_count": 7,
   "metadata": {},
   "outputs": [
    {
     "name": "stdout",
     "output_type": "stream",
     "text": [
      "(768, 9)\n"
     ]
    }
   ],
   "source": [
    "import numpy as np\n",
    "data = np.genfromtxt('diabetes.csv', delimiter=',', names=True, case_sensitive=True)\n",
    "data = np.array(data.tolist()) # was an array of arrays earlier\n",
    "print(data.shape)\n",
    "x = np.copy(data[:,0:8]) #features\n",
    "y = np.copy(data[:,8]) #targets\n",
    "features = 8"
   ]
  },
  {
   "cell_type": "code",
   "execution_count": 8,
   "metadata": {},
   "outputs": [],
   "source": [
    "from sklearn.model_selection import train_test_split\n",
    "import qiskit\n",
    "from qiskit import BasicAer\n",
    "from qiskit.aqua import QuantumInstance\n",
    "from qiskit.aqua.algorithms import QSVM\n",
    "from qiskit.aqua.components.multiclass_extensions import one_against_rest, all_pairs\n",
    "from qiskit.aqua.components.feature_maps import SecondOrderExpansion\n",
    "#from qiskit.aqua.input import ClassificationInput\n",
    "#from qiskit.aqua import run_algorithm"
   ]
  },
  {
   "cell_type": "code",
   "execution_count": 11,
   "metadata": {},
   "outputs": [
    {
     "name": "stderr",
     "output_type": "stream",
     "text": [
      "configrc.store_credentials:WARNING:2020-06-10 14:59:18,227: Credentials already present. Set overwrite=True to overwrite.\n"
     ]
    }
   ],
   "source": [
    "key = '243ff4202efc1b45ad9282b9d6d524cdcccfc25561a86de37424b5ddd9aaa72969ea300500423019c48da10777e3241a5a45ff4a223439239cba4bed8d8709cc'\n",
    "qiskit.IBMQ.save_account(key)\n",
    "provider = qiskit.IBMQ.load_account()\n",
    "#qiskit.IBMQ.backends()\n",
    "backend = provider.get_backend('ibmq_qasm_simulator')"
   ]
  },
  {
   "cell_type": "code",
   "execution_count": 13,
   "metadata": {},
   "outputs": [],
   "source": [
    "train_x, test_x, train_y, test_y = train_test_split(x, y, test_size=0.2)\n",
    "training_data = {'A':train_x[train_y==0],'B':train_x[train_y==1]}\n",
    "testing_data = {'A':test_x[test_y==0],'B':test_x[test_y==1]}"
   ]
  },
  {
   "cell_type": "code",
   "execution_count": 15,
   "metadata": {},
   "outputs": [
    {
     "name": "stderr",
     "output_type": "stream",
     "text": [
      "/home/utkarsh/QC/qc/lib/python3.6/site-packages/ipykernel_launcher.py:1: DeprecationWarning: The qiskit.aqua.components.feature_maps.SecondOrderExpansion object is deprecated as of 0.7.0 and will be removed no sooner than 3 months after the release. You should use qiskit.circuit.library.ZZFeatureMap instead.\n",
      "  \"\"\"Entry point for launching an IPython kernel.\n",
      "/home/utkarsh/QC/qc/lib/python3.6/site-packages/qiskit/aqua/components/feature_maps/second_order_expansion.py:59: DeprecationWarning: The qiskit.aqua.components.feature_maps.PauliZExpansion class is deprecated as of 0.7.0 and will be removed no sooner than 3 months after the release. You should use qiskit.circuit.library.PauliFeatureMap instead.\n",
      "  z_order=2, data_map_func=data_map_func)\n",
      "/home/utkarsh/QC/qc/lib/python3.6/site-packages/qiskit/aqua/components/feature_maps/pauli_z_expansion.py:71: DeprecationWarning: The qiskit.aqua.components.feature_maps.PauliExpansion object is deprecated as of 0.7.0 and will be removed no sooner than 3 months after the release. You should use qiskit.circuit.library.PauliFeatureMap instead.\n",
      "  paulis=pauli_string, data_map_func=data_map_func)\n",
      "/home/utkarsh/QC/qc/lib/python3.6/site-packages/ipykernel_launcher.py:2: DeprecationWarning: \n",
      "                The <class 'qiskit.aqua.components.feature_maps.second_order_expansion.SecondOrderExpansion'> object as input for the QSVM is deprecated as of 0.7.0 and will\n",
      "                be removed no earlier than 3 months after the release.\n",
      "                You should pass a QuantumCircuit object instead.\n",
      "                See also qiskit.circuit.library.data_preparation for a collection\n",
      "                of suitable circuits.\n",
      "  \n"
     ]
    }
   ],
   "source": [
    "feature_map = SecondOrderExpansion(feature_dimension=features,depth=2,entanglement='full')\n",
    "svm = QSVM(feature_map,training_data,testing_data)\n",
    "shots = 1\n",
    "quantum_instance = QuantumInstance(backend,shots=shots,skip_qobj_validation=False)"
   ]
  },
  {
   "cell_type": "code",
   "execution_count": null,
   "metadata": {},
   "outputs": [],
   "source": [
    "result = svm.run(quantum_instance) "
   ]
  }
 ],
 "metadata": {
  "kernelspec": {
   "display_name": "Python 3",
   "language": "python",
   "name": "python3"
  },
  "language_info": {
   "codemirror_mode": {
    "name": "ipython",
    "version": 3
   },
   "file_extension": ".py",
   "mimetype": "text/x-python",
   "name": "python",
   "nbconvert_exporter": "python",
   "pygments_lexer": "ipython3",
   "version": "3.6.9"
  }
 },
 "nbformat": 4,
 "nbformat_minor": 4
}
